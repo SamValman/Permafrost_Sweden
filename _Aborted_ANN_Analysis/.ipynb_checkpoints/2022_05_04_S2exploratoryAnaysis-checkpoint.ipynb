{
 "cells": [
  {
   "cell_type": "code",
   "execution_count": 1,
   "metadata": {},
   "outputs": [],
   "source": [
    "import ee\n",
    "import geemap\n",
    "ee.Initialize()"
   ]
  },
  {
   "cell_type": "code",
   "execution_count": 2,
   "metadata": {},
   "outputs": [],
   "source": [
    "# location location location\n",
    "fc = ee.FeatureCollection('projects/ee-samuelvalman/assets/Arctic/t5')"
   ]
  },
  {
   "cell_type": "code",
   "execution_count": 3,
   "metadata": {},
   "outputs": [],
   "source": [
    "# Date Range\n",
    "start = '2019-07-17'\n",
    "end = '2019-07-31'"
   ]
  },
  {
   "cell_type": "code",
   "execution_count": 4,
   "metadata": {},
   "outputs": [],
   "source": [
    "ic = ee.ImageCollection(\"COPERNICUS/S2_SR\").filterDate(start, end).filterBounds(fc)"
   ]
  },
  {
   "cell_type": "code",
   "execution_count": 5,
   "metadata": {},
   "outputs": [
    {
     "data": {
      "text/plain": [
       "120"
      ]
     },
     "execution_count": 5,
     "metadata": {},
     "output_type": "execute_result"
    }
   ],
   "source": [
    "ic.size().getInfo()"
   ]
  },
  {
   "cell_type": "code",
   "execution_count": 15,
   "metadata": {},
   "outputs": [
    {
     "name": "stdout",
     "output_type": "stream",
     "text": [
      "0 : 0\n",
      "10 : 31\n",
      "20 : 7\n",
      "30 : 12\n",
      "40 : 9\n",
      "50 : 10\n",
      "60 : 7\n",
      "70 : 12\n",
      "80 : 10\n",
      "90 : 6\n"
     ]
    }
   ],
   "source": [
    "for i in range(0,10):\n",
    "    if i ==0:\n",
    "        cloud = 0\n",
    "    else:\n",
    "        cloud = i*10\n",
    "    cf = ic.filter(ee.Filter.lt('CLOUDY_PIXEL_PERCENTAGE',cloud)).filter(ee.Filter.gt('CLOUDY_PIXEL_PERCENTAGE',(cloud-10)))\n",
    "\n",
    "    print(cloud, ':', cf.size().getInfo())\n",
    "    \n",
    "\n"
   ]
  },
  {
   "cell_type": "markdown",
   "metadata": {},
   "source": [
    "# Plotting"
   ]
  },
  {
   "cell_type": "code",
   "execution_count": 16,
   "metadata": {},
   "outputs": [
    {
     "data": {
      "text/plain": [
       "19"
      ]
     },
     "execution_count": 16,
     "metadata": {},
     "output_type": "execute_result"
    }
   ],
   "source": [
    "cf = ic.filter(ee.Filter.lt('CLOUDY_PIXEL_PERCENTAGE',4))\n",
    "cf.size().getInfo()"
   ]
  },
  {
   "cell_type": "code",
   "execution_count": 28,
   "metadata": {},
   "outputs": [
    {
     "name": "stdout",
     "output_type": "stream",
     "text": [
      "S2A_MSIL2A_20190726T102031_N0213_R065_T33WXR_20190726T125507\n",
      "S2A_MSIL2A_20190726T102031_N0213_R065_T34WDA_20190726T125507\n",
      "S2A_MSIL2A_20190726T102031_N0213_R065_T34WDB_20190726T125507\n",
      "S2A_MSIL2A_20190726T102031_N0213_R065_T34WEA_20190726T125507\n",
      "S2B_MSIL2A_20190727T104029_N0213_R008_T33WWR_20190727T134833\n",
      "S2B_MSIL2A_20190727T104029_N0213_R008_T33WXQ_20190727T134833\n",
      "S2B_MSIL2A_20190727T104029_N0213_R008_T33WXR_20190727T134833\n",
      "S2B_MSIL2A_20190727T104029_N0213_R008_T33WXS_20190727T134833\n",
      "S2B_MSIL2A_20190727T104029_N0213_R008_T34WDB_20190727T134833\n",
      "S2B_MSIL2A_20190727T104029_N0213_R008_T34WDV_20190727T134833\n",
      "S2B_MSIL2A_20190727T104029_N0213_R008_T34WEA_20190727T134833\n",
      "S2B_MSIL2A_20190727T104029_N0213_R008_T34WEB_20190727T134833\n",
      "S2A_MSIL2A_20190728T105621_N0213_R094_T33WWQ_20190728T135007\n",
      "S2A_MSIL2A_20190728T105621_N0213_R094_T33WWR_20190728T135007\n",
      "S2A_MSIL2A_20190729T103031_N0213_R108_T33WWR_20190729T133626\n",
      "S2B_MSIL2A_20190730T105039_N0213_R051_T33WWP_20190730T132548\n",
      "S2B_MSIL2A_20190730T105039_N0213_R051_T33WWQ_20190730T132548\n",
      "S2B_MSIL2A_20190730T105039_N0213_R051_T34WEA_20190730T132548\n"
     ]
    }
   ],
   "source": [
    "listIms = cf.toList(19)\n",
    "for i in range(0,19):\n",
    "    im = listIms.get(i)\n",
    "    im = ee.Image(im)\n",
    "    if im.get('PRODUCT_ID').getInfo() == 'S2B_MSIL2A_20190727T104029_N0213_R008_T34WDA_20190727T134833':\n",
    "        continue\n",
    "    print(im.get('PRODUCT_ID').getInfo())\n",
    "    \n"
   ]
  },
  {
   "cell_type": "code",
   "execution_count": 17,
   "metadata": {},
   "outputs": [
    {
     "data": {
      "application/vnd.jupyter.widget-view+json": {
       "model_id": "8ad8ebc298b84a7bb73a21d6fb1057c7",
       "version_major": 2,
       "version_minor": 0
      },
      "text/plain": [
       "Map(center=[67.99204762518443, 19.52839099985792], controls=(WidgetControl(options=['position', 'transparent_b…"
      ]
     },
     "metadata": {},
     "output_type": "display_data"
    }
   ],
   "source": [
    "Map = geemap.Map()\n",
    "Map.addLayer(cf, {}, 'cf')\n",
    "Map.addLayer(fc, {}, 'fc')\n",
    "Map.centerObject(fc, zoom =8)\n",
    "Map"
   ]
  },
  {
   "cell_type": "code",
   "execution_count": null,
   "metadata": {},
   "outputs": [],
   "source": []
  }
 ],
 "metadata": {
  "kernelspec": {
   "display_name": "Python 3 (ipykernel)",
   "language": "python",
   "name": "python3"
  },
  "language_info": {
   "codemirror_mode": {
    "name": "ipython",
    "version": 3
   },
   "file_extension": ".py",
   "mimetype": "text/x-python",
   "name": "python",
   "nbconvert_exporter": "python",
   "pygments_lexer": "ipython3",
   "version": "3.9.9"
  }
 },
 "nbformat": 4,
 "nbformat_minor": 4
}
